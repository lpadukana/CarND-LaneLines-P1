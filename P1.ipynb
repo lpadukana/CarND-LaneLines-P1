{
 "cells": [
  {
   "cell_type": "markdown",
   "metadata": {
    "deletable": true,
    "editable": true
   },
   "source": [
    "# Self-Driving Car Engineer Nanodegree\n",
    "\n",
    "\n",
    "## Project: **Finding Lane Lines on the Road** \n",
    "***\n",
    "In this project, you will use the tools you learned about in the lesson to identify lane lines on the road.  You can develop your pipeline on a series of individual images, and later apply the result to a video stream (really just a series of images). Check out the video clip \"raw-lines-example.mp4\" (also contained in this repository) to see what the output should look like after using the helper functions below. \n",
    "\n",
    "Once you have a result that looks roughly like \"raw-lines-example.mp4\", you'll need to get creative and try to average and/or extrapolate the line segments you've detected to map out the full extent of the lane lines.  You can see an example of the result you're going for in the video \"P1_example.mp4\".  Ultimately, you would like to draw just one line for the left side of the lane, and one for the right.\n",
    "\n",
    "In addition to implementing code, there is a brief writeup to complete. The writeup should be completed in a separate file, which can be either a markdown file or a pdf document. There is a [write up template](https://github.com/udacity/CarND-LaneLines-P1/blob/master/writeup_template.md) that can be used to guide the writing process. Completing both the code in the Ipython notebook and the writeup template will cover all of the [rubric points](https://review.udacity.com/#!/rubrics/322/view) for this project.\n",
    "\n",
    "---\n",
    "Let's have a look at our first image called 'test_images/solidWhiteRight.jpg'.  Run the 2 cells below (hit Shift-Enter or the \"play\" button above) to display the image.\n",
    "\n",
    "**Note: If, at any point, you encounter frozen display windows or other confounding issues, you can always start again with a clean slate by going to the \"Kernel\" menu above and selecting \"Restart & Clear Output\".**\n",
    "\n",
    "---"
   ]
  },
  {
   "cell_type": "markdown",
   "metadata": {
    "deletable": true,
    "editable": true
   },
   "source": [
    "**The tools you have are color selection, region of interest selection, grayscaling, Gaussian smoothing, Canny Edge Detection and Hough Tranform line detection.  You  are also free to explore and try other techniques that were not presented in the lesson.  Your goal is piece together a pipeline to detect the line segments in the image, then average/extrapolate them and draw them onto the image for display (as below).  Once you have a working pipeline, try it out on the video stream below.**\n",
    "\n",
    "---\n",
    "\n",
    "<figure>\n",
    " <img src=\"line-segments-example.jpg\" width=\"380\" alt=\"Combined Image\" />\n",
    " <figcaption>\n",
    " <p></p> \n",
    " <p style=\"text-align: center;\"> Your output should look something like this (above) after detecting line segments using the helper functions below </p> \n",
    " </figcaption>\n",
    "</figure>\n",
    " <p></p> \n",
    "<figure>\n",
    " <img src=\"laneLines_thirdPass.jpg\" width=\"380\" alt=\"Combined Image\" />\n",
    " <figcaption>\n",
    " <p></p> \n",
    " <p style=\"text-align: center;\"> Your goal is to connect/average/extrapolate line segments to get output like this</p> \n",
    " </figcaption>\n",
    "</figure>"
   ]
  },
  {
   "cell_type": "markdown",
   "metadata": {
    "deletable": true,
    "editable": true
   },
   "source": [
    "## Import Packages"
   ]
  },
  {
   "cell_type": "code",
   "execution_count": null,
   "metadata": {
    "collapsed": false,
    "deletable": true,
    "editable": true,
    "scrolled": true
   },
   "outputs": [],
   "source": [
    "#importing some useful packages\n",
    "import matplotlib.pyplot as plt\n",
    "import matplotlib.image as mpimg\n",
    "import numpy as np\n",
    "import cv2\n",
    "\n",
    "%matplotlib inline\n",
    "\n",
    "# additional modules used\n",
    "from collections import deque\n",
    "from ipywidgets import interact"
   ]
  },
  {
   "cell_type": "markdown",
   "metadata": {
    "deletable": true,
    "editable": true
   },
   "source": [
    "## Read in an Image"
   ]
  },
  {
   "cell_type": "code",
   "execution_count": null,
   "metadata": {
    "collapsed": false,
    "deletable": true,
    "editable": true,
    "scrolled": true
   },
   "outputs": [],
   "source": [
    "#reading in an image\n",
    "image = mpimg.imread('test_images/extra.mp4-6.0.jpg')\n",
    "\n",
    "#printing out some stats and plotting\n",
    "print('This image is:', type(image), 'with dimesions:', image.shape)\n",
    "plt.imshow(image)"
   ]
  },
  {
   "cell_type": "markdown",
   "metadata": {},
   "source": [
    "## Make a Frame class"
   ]
  },
  {
   "cell_type": "code",
   "execution_count": null,
   "metadata": {
    "collapsed": true
   },
   "outputs": [],
   "source": [
    "class Frame:\n",
    "    def load(filename):\n",
    "        return Frame(mpimg.imread(filename))\n",
    "\n",
    "    def weighted(fr1, w1, fr2, w2, c):\n",
    "        return Frame(cv2.addWeighted(fr1.image, w1, fr2.image, w2, c))\n",
    "    \n",
    "    def zeros(shape):\n",
    "        return Frame(np.ones(shape))\n",
    "    \n",
    "    def zeros_like(fr):\n",
    "        return Frame(np.zeros_like(fr.image))\n",
    "\n",
    "    def __init__(self, image):\n",
    "        self.image = image\n",
    "\n",
    "    def gray(self):\n",
    "        return Frame(cv2.cvtColor(self.image, cv2.COLOR_RGB2GRAY))\n",
    "    \n",
    "    def sizexy(self):\n",
    "        y, x, *_ = self.image.shape\n",
    "        return (x, y)\n",
    "\n",
    "    def x_at(self, xfrac):\n",
    "        xdim, _ = self.sizexy()\n",
    "        return np.array(xfrac) * xdim\n",
    "\n",
    "    def y_at(self, yfrac):\n",
    "        _, ydim = self.sizexy()\n",
    "        return np.array(yfrac) * ydim\n",
    "\n",
    "    def rgb(self):\n",
    "        return Frame(cv2.cvtColor(self.image, cv2.COLOR_GRAY2RGB))\n",
    "\n",
    "    def blur(self, kernel_size=5):\n",
    "        return Frame(cv2.GaussianBlur(self.image, (kernel_size, kernel_size), 0))\n",
    "\n",
    "    def canny(self, low=50, high_multiplier=3):\n",
    "        return Frame(cv2.Canny(self.image, low, low * high_multiplier))\n",
    "    \n",
    "    def sobel(self, dx=1, dy=1, ksize=5, scale=1, delta=0):\n",
    "        sobel64f = cv2.Sobel(self.image, cv2.CV_64F, dx, dy, ksize=ksize, scale=scale, delta=delta)\n",
    "        abs_sobel64f = np.absolute(sobel64f)\n",
    "        return Frame(np.uint8(abs_sobel64f))\n",
    "    \n",
    "    def laplacian(self, ksize=3):\n",
    "        out = cv2.Laplacian(self.image, cv2.CV_64F, ksize=ksize)\n",
    "        return Frame(out)\n",
    "\n",
    "    def hist_eq(self):\n",
    "        if self.is_monochrome():\n",
    "            return Frame(cv2.equalizeHist(self.image))\n",
    "        else:\n",
    "            out = cv2.cvtColor(self.image, cv2.COLOR_RGB2HSV)\n",
    "            out[:,:,2] = cv2.equalizeHist(out[:,:,2])\n",
    "            return Frame(cv2.cvtColor(out, cv2.COLOR_HSV2RGB))\n",
    "\n",
    "    def clahe_eq(self, clip_limit=2, grid_size=8):\n",
    "        if self.is_monochrome():\n",
    "            return Frame(cv2.createCLAHE(clipLimit=clip_limit, tileGridSize=(grid_size, grid_size)).apply(self.image))\n",
    "        else:\n",
    "            out = cv2.cvtColor(self.image, cv2.COLOR_RGB2HSV)\n",
    "            out[:,:,2] = cv2.createCLAHE(clipLimit=clip_limit, tileGridSize=(grid_size, grid_size)).apply(out[:,:,2])\n",
    "            return Frame(cv2.cvtColor(out, cv2.COLOR_HSV2RGB))\n",
    "\n",
    "    def multiply_scalar(self, value):\n",
    "        return Frame(cv2.addWeighted(self.image, value, 0, 0, 0))\n",
    "\n",
    "    def add_scalar(self, value):\n",
    "        return Frame(cv2.addWeighted(self.image, 1, 0, 0, value))\n",
    "\n",
    "    def add_weighted(self, self_weight, frame, frame_weight, gamma):\n",
    "        return Frame(cv2.addWeighted(self.image, self_weight, frame.image, frame_weight, gamma))\n",
    "\n",
    "    def bitwise_or(self, frame):\n",
    "        return Frame(cv2.bitwise_or(self.image, frame.image))\n",
    "\n",
    "    def bitwise_and(self, frame):\n",
    "        return Frame(cv2.bitwise_and(self.image, frame.image))\n",
    "\n",
    "    def channels(self, channels):\n",
    "        out = np.zeros_like(self.image)\n",
    "        out[..., channels] = self.image[..., channels]\n",
    "        return Frame(out)\n",
    "\n",
    "    def channel(self, channel):\n",
    "        return Frame(self.image[..., channel].copy())\n",
    "\n",
    "    def hstack(self, frame):\n",
    "        return Frame(np.hstack([self.image, frame.image]))\n",
    "\n",
    "    def vstack(self, frame):\n",
    "        return Frame(np.vstack([self.image, frame.image]))\n",
    "\n",
    "    def fillpoly(self, vertices, color):\n",
    "        return Frame(cv2.fillPoly(self.image.copy(), vertices, color))\n",
    "\n",
    "    def draw_lines(self, lines, color, thickness):\n",
    "        img = self.image.copy()\n",
    "        for line in lines:\n",
    "            x1, y1, x2, y2 = line\n",
    "            cv2.line(img, (int(x1), int(y1)), (int(x2), int(y2)), color, thickness)\n",
    "        return Frame(img)\n",
    "\n",
    "    def draw_text(self, text, x, y, scale, color, thickness):\n",
    "        return Frame(cv2.putText(self.image.copy(), text, (int(x), int(y)), cv2.FONT_HERSHEY_SIMPLEX, scale, color, thickness, cv2.LINE_AA))\n",
    "\n",
    "    def hough_lines(self, rho, theta, threshold, min_line_length, max_line_gap):\n",
    "        out = cv2.HoughLinesP(self.image, rho, theta, threshold, np.array([]), minLineLength=min_line_length, maxLineGap=max_line_gap)\n",
    "        return out[:,0,:]\n",
    "\n",
    "    def hsv_range_mask(self, hsv_ranges):\n",
    "        if len(hsv_ranges) == 0:\n",
    "            raise ValueError('At least one range is required')\n",
    "\n",
    "        hsv = cv2.cvtColor(self.image, cv2.COLOR_RGB2HSV)\n",
    "\n",
    "        range_lo, range_hi = hsv_ranges[0]\n",
    "        mask = cv2.inRange(hsv, range_lo, range_hi)\n",
    "\n",
    "        for hsv_range in hsv_ranges[1:]:\n",
    "            range_lo, range_hi = hsv_range\n",
    "            mask1 = cv2.inRange(hsv, range_lo, range_hi)\n",
    "            mask = cv2.bitwise_or(mask, mask1)\n",
    "            \n",
    "        return Frame(mask)\n",
    "\n",
    "    def is_monochrome(self):\n",
    "        return len(self.image.shape) == 2\n",
    "\n",
    "    def show(self, xdim=None):\n",
    "        if xdim is not None:\n",
    "            aspect = self.image.shape[0] / self.image.shape[1]\n",
    "            plt.figure(figsize=(xdim, aspect * xdim))\n",
    "\n",
    "        if self.is_monochrome():\n",
    "            plt.imshow(self.image, cmap='gray', vmin=0, vmax=255)\n",
    "        else:\n",
    "            plt.imshow(self.image)\n",
    "\n",
    "        plt.axis('off')\n",
    "        plt.tight_layout()\n",
    "\n",
    "\n",
    "class FrameGrid:\n",
    "    def __init__(self, columns):\n",
    "        self.columns = columns\n",
    "        \n",
    "    def show(self, frames, xdim=6):\n",
    "        aspect = frames[0].image.shape[0] / frames[0].image.shape[1]\n",
    "        ydim = aspect * xdim\n",
    "        rows = len(frames)//self.columns + 1\n",
    "        fig = plt.figure(figsize=(xdim * self.columns, ydim * rows))\n",
    "        for i in range(len(frames)):\n",
    "            if i < len(frames):\n",
    "                fig.add_subplot(rows, self.columns, i + 1)\n",
    "                frames[i].show()\n",
    "\n",
    "\n",
    "class Lines:\n",
    "    def from_x_intercepts(lines, xs):\n",
    "        x1, x2 = xs\n",
    "        y1, y2 = lines.y_intercept(xs)[0]\n",
    "        return Lines([[x1, y1, x2, y2]])\n",
    "\n",
    "    def from_y_intercepts(lines, ys):\n",
    "        y1, y2 = ys\n",
    "        x1, x2 = lines.x_intercept(ys)[0]\n",
    "        return Lines([[x1, y1, x2, y2]])\n",
    "\n",
    "    def __init__(self, lines):\n",
    "        if type(lines) == np.ndarray:\n",
    "            self.lines = lines\n",
    "        else:\n",
    "            self.lines = np.array(lines)\n",
    "        \n",
    "    def __len__(self):\n",
    "        return self.lines.__len__()\n",
    "\n",
    "    def __getitem__(self, i):\n",
    "        return self.lines.__getitem__(i)\n",
    "\n",
    "    def __iter__(self):\n",
    "        return self.lines.__iter__()\n",
    "\n",
    "    def empty(self):\n",
    "        return len(self.lines) <= 0\n",
    "\n",
    "    def centroid(self):\n",
    "        x1, y1, x2, y2 = self.lines.T\n",
    "        return np.array([(x1 + x2).T/2, (y1 + y2).T/2]).reshape([-1, 2])\n",
    "    \n",
    "    def mean(self):\n",
    "        if len(self.lines) > 0:\n",
    "            mean = self.lines.mean(axis=0)\n",
    "            return Lines(mean.reshape(-1, 4))\n",
    "        else:\n",
    "            return Lines([])\n",
    "\n",
    "    def m(self):\n",
    "        x1, y1, x2, y2 = self.lines.T\n",
    "        return ((y2 - y1) / (x2 - x1)).reshape((-1, 1))\n",
    "\n",
    "    def b(self):\n",
    "        x1, y1, x2, y2 = self.lines.T\n",
    "        return ((x1 * y2 - x2 * y1) / (x1 - x2)).reshape((-1, 1))\n",
    "\n",
    "    def y_intercept(self, x):\n",
    "        return self.m() * x + self.b()\n",
    "\n",
    "    def x_intercept(self, y):\n",
    "        return (y - self.b()) / self.m()\n",
    "\n",
    "    def theta(self):\n",
    "        return np.arctan(self.m())\n",
    "\n",
    "    def theta_degrees(self):\n",
    "        return np.degrees(self.theta())\n",
    "\n",
    "    def segment_by_theta(self, angle_pairs):\n",
    "        out = []\n",
    "        thetas = self.theta_degrees()\n",
    "        for angle_pair in angle_pairs:\n",
    "            lines = []\n",
    "            for i, theta in enumerate(thetas):\n",
    "                if angle_pair[0] < theta < angle_pair[1]:\n",
    "                    lines.append(self.lines[i])\n",
    "            out.append(lines)\n",
    "            \n",
    "        return [Lines(lines) for lines in out]\n",
    "\n",
    "\n",
    "class LaneDetector:\n",
    "    def __init__(self):\n",
    "        self.roi = None\n",
    "        self.params = {\n",
    "            'roi': {\n",
    "                'topy': 0.6,\n",
    "                'bottomy': 1.0,\n",
    "                'topw': 0.1,\n",
    "                'bottomw': 0.9\n",
    "            },\n",
    "            'blur': {\n",
    "                'kernel_size': 9,\n",
    "            },\n",
    "            'canny': {\n",
    "                'low': 30,\n",
    "                'high_multiplier': 3,\n",
    "            },\n",
    "            'hough': {\n",
    "                'rho': 2,\n",
    "                'theta': np.pi/180.0,\n",
    "                'threshold': 35,\n",
    "                'min_line_length': 20,\n",
    "                'max_line_gap': 20\n",
    "            }\n",
    "        }\n",
    "\n",
    "    def set_roi(self, frame, topy, bottomy, topw, bottomw):\n",
    "        self.xdim, self.ydim = frame.sizexy()\n",
    "        vertices = np.array([[\n",
    "            (self.xdim * (0.5 - bottomw/2), self.ydim * bottomy),\n",
    "            (self.xdim * (0.5 - topw/2),    self.ydim * topy),\n",
    "            (self.xdim * (0.5 + topw/2),    self.ydim * topy),\n",
    "            (self.xdim * (0.5 + bottomw/2), self.ydim * bottomy)\n",
    "        ]], dtype=np.int32)\n",
    "\n",
    "        self.roi = Frame.zeros_like(frame).fillpoly(vertices, [255])\n",
    "\n",
    "    def detect(self, frame):\n",
    "        self.gray = frame.gray()\n",
    "        self.dark = self.gray.multiply_scalar(0.3)\n",
    "        self.wymask = frame.hsv_range_mask([[(0, 0, 200), (255, 30, 255)], [(10, 90, 180), (40, 255, 255)]])\n",
    "        self.gray_enhanced = self.dark.bitwise_or(self.wymask)\n",
    "        self.gray_enhanced_blurred = self.gray_enhanced.blur(**self.params['blur'])\n",
    "        self.edges = self.gray_enhanced_blurred.canny(**self.params['canny'])\n",
    "        self.set_roi(self.edges, **self.params['roi'])\n",
    "        self.masked_edges = self.edges.bitwise_and(self.roi)\n",
    "        self.lines = Lines(self.masked_edges.hough_lines(**self.params['hough']))\n",
    "        left, right = self.lines.segment_by_theta([(-38, -27), (27, 38)])\n",
    "\n",
    "        return left.mean(), right.mean()\n",
    "\n",
    "\n",
    "class LaneImageProcessor:\n",
    "    def __init__(self, lane_detector, history_size=1, debug=False):\n",
    "        self.lane_detector = lane_detector\n",
    "        self.history_size = history_size\n",
    "        self.left_history = deque()\n",
    "        self.right_history = deque()\n",
    "        self.debug = debug\n",
    "\n",
    "    def smooth_and_draw(self, out, history, line, color):\n",
    "        if not line.empty():\n",
    "            x1, y1, x2, y2 = line[0]\n",
    "            while len(history) < self.history_size + 1:\n",
    "                history.appendleft([x1, y1, x2, y2])\n",
    "\n",
    "            history.pop()\n",
    "\n",
    "        if len(history) > 0:\n",
    "            smooth = np.array(history).mean(axis=0)\n",
    "            out = self.draw_lane(out, Lines([smooth]))\n",
    "            \n",
    "        return out\n",
    "\n",
    "    def draw_lines(self, out, lines):\n",
    "        if not lines.empty():\n",
    "            out = out.draw_lines(lines, [0, 255, 0], 2)\n",
    "            return out\n",
    "\n",
    "    def draw_lane(self, out, mean_lane):\n",
    "        if not mean_lane.empty():\n",
    "            lane = Lines.from_y_intercepts(mean_lane, out.y_at([0.65, 1.0]))\n",
    "            out = out.draw_lines(lane, [255, 0, 0], 10)\n",
    "\n",
    "            centroid = lane.centroid()\n",
    "            return out.draw_text(\"{:+.1f}\".format(-lane.theta_degrees()[0][0]), centroid[0][0] - 70, centroid[0][1], 1, (255, 255, 255), 2)\n",
    "\n",
    "    def process(self, frame):\n",
    "        left, right = self.lane_detector.detect(frame)\n",
    "        out = Frame.zeros_like(frame)\n",
    "        out = self.smooth_and_draw(out, self.left_history, left, [255, 0, 0])\n",
    "        out = self.smooth_and_draw(out, self.right_history, right, [255, 0, 0])\n",
    "        \n",
    "        if self.debug:\n",
    "            im1 = self.lane_detector.gray_enhanced.rgb()\n",
    "            im2 = self.lane_detector.masked_edges.rgb()\n",
    "            im3 = self.draw_lines(self.lane_detector.masked_edges.rgb(), self.lane_detector.lines)\n",
    "            im4 = Frame.weighted(frame, 1.0, out, 0.4, 0)\n",
    "            row1 = im1.hstack(im2)\n",
    "            row2 = im3.hstack(im4)\n",
    "            return row1.vstack(row2)\n",
    "        else:\n",
    "            return Frame.weighted(frame, 1.0, out, 0.4, 0)\n",
    "\n",
    "    def process_as_image(self, image):\n",
    "        return self.process(Frame(image)).image"
   ]
  },
  {
   "cell_type": "code",
   "execution_count": null,
   "metadata": {
    "collapsed": false
   },
   "outputs": [],
   "source": [
    "# FrameGrid(2).show([\n",
    "#     self.roi,\n",
    "#     masked_edges,\n",
    "# ], 8)\n",
    "\n",
    "fr = Frame.load('test_images/extra.mp4-4.0.jpg')\n",
    "# fr = Frame.load('test_images/extra.mp4-5.5.jpg')\n",
    "# fr = Frame.load('test_images/extra.mp4-6.0.jpg')\n",
    "\n",
    "detector = LaneDetector()\n",
    "LaneImageProcessor(detector, history_size=1, debug=True).process(fr).show(15)\n",
    "\n",
    "# fr.blur(7).gray().canny(50, 3).blurred(3).show()\n",
    "# mask = fr.hsv_range_mask([[(0, 0, 200), (255, 30, 255)], [(10, 90, 180), (40, 255, 255)]])\n",
    "\n",
    "# FrameGrid(2).show([\n",
    "#     fr,\n",
    "#     fr.blur(5).canny(),\n",
    "#     mask.rgb().bitwise_and(fr),\n",
    "#     mask.rgb().add_weighted(0.5, fr, 0.5, 0),\n",
    "#     mask.rgb().bitwise_and(fr).blur().canny().blur(),\n",
    "#     mask.rgb().bitwise_and(fr).blur().canny(),\n",
    "# ], 8)\n",
    "\n",
    "# FrameGrid(2).show([\n",
    "#     mask.bitwise_and(fr.gray()).blur(11).canny(50, 3).blur(3),\n",
    "#     fr\n",
    "# ], 8)"
   ]
  },
  {
   "cell_type": "markdown",
   "metadata": {},
   "source": [
    "## Explore the channels for useful information"
   ]
  },
  {
   "cell_type": "code",
   "execution_count": null,
   "metadata": {
    "collapsed": false,
    "deletable": true,
    "editable": true,
    "scrolled": true
   },
   "outputs": [],
   "source": [
    "def copy_channels(img, channels):\n",
    "    out = np.zeros_like(img)\n",
    "    out[..., channels] = img[..., channels]\n",
    "    return out\n",
    "\n",
    "# fig = plt.figure(figsize=(16, 4))\n",
    "# fig.add_subplot(1,4,1)\n",
    "# plt.imshow(image)\n",
    "# fig.add_subplot(1,4,2)\n",
    "# plt.imshow(copy_channels(image, [0]))\n",
    "# fig.add_subplot(1,4,3)\n",
    "# plt.imshow(copy_channels(image, [1]))\n",
    "# fig.add_subplot(1,4,4)\n",
    "# plt.imshow(copy_channels(image, [2]))\n",
    "\n",
    "i = image.copy()\n",
    "h = cv2.cvtColor(i, cv2.COLOR_RGB2HSV)\n",
    "h[..., [1]] = 255\n",
    "i = cv2.cvtColor(h, cv2.COLOR_HSV2RGB)\n",
    "plt.imshow(i)"
   ]
  },
  {
   "cell_type": "code",
   "execution_count": null,
   "metadata": {
    "collapsed": false,
    "deletable": true,
    "editable": true
   },
   "outputs": [],
   "source": [
    "@interact(h1=(0, 255, 10), h2=(0, 255, 10), s1=(0, 255, 10), s2=(0, 255, 10), v1=(0, 255, 10), v2=(0, 255, 10))\n",
    "def adjust_rgb(h1=0, h2=255, s1=0, s2=255, v1=220, v2=255):\n",
    "    hsv = cv2.cvtColor(image, cv2.COLOR_RGB2HSV)\n",
    "    mask = cv2.inRange(hsv, (h1, s1, v1), (h2, s2, v2))\n",
    "    mask = cv2.GaussianBlur(mask, (5, 5), 0)\n",
    "    plt.figure(figsize=(5, 5))\n",
    "    plt.imshow(mask, cmap='gray')"
   ]
  },
  {
   "cell_type": "code",
   "execution_count": null,
   "metadata": {
    "collapsed": false,
    "deletable": true,
    "editable": true
   },
   "outputs": [],
   "source": [
    "gr = cv2.cvtColor(image, cv2.COLOR_RGB2GRAY)\n",
    "fig = plt.figure(figsize=(5, 5))\n",
    "# fig.add_subplot(311)\n",
    "# plt.imshow(cv2.createCLAHE(clipLimit=2.0, tileGridSize=(8,8)).apply(gr), cmap='gray')\n",
    "# plt.imshow(gr, cmap='gray')\n",
    "# plt.imshow(gr, cmap='gray')\n",
    "# fig.add_subplot(312)\n",
    "# plt.imshow(cv2.equalizeHist(gr), cmap='gray')\n",
    "# fig.add_subplot(313)\n",
    "# plt.imshow(cv2.createCLAHE(clipLimit=2.0, tileGridSize=(8,8)).apply(gr), cmap='gray')\n",
    "# plt.imshow(cv2.Sobel(image, cv2.CV_64F, 3, 3, ksize=5), cmap='gray')\n",
    "\n",
    "sobelx64f = cv2.Sobel(gr,cv2.CV_64F,2,2,ksize=5)\n",
    "abs_sobel64f = np.absolute(sobelx64f)\n",
    "sobel_8u = np.uint8(abs_sobel64f)\n",
    "plt.imshow(sobel_8u, cmap='gray')"
   ]
  },
  {
   "cell_type": "markdown",
   "metadata": {
    "deletable": true,
    "editable": true
   },
   "source": [
    "## Ideas for Lane Detection Pipeline"
   ]
  },
  {
   "cell_type": "markdown",
   "metadata": {
    "deletable": true,
    "editable": true
   },
   "source": [
    "**Some OpenCV functions (beyond those introduced in the lesson) that might be useful for this project are:**\n",
    "\n",
    "`cv2.inRange()` for color selection  \n",
    "`cv2.fillPoly()` for regions selection  \n",
    "`cv2.line()` to draw lines on an image given endpoints  \n",
    "`cv2.addWeighted()` to coadd / overlay two images\n",
    "`cv2.cvtColor()` to grayscale or change color\n",
    "`cv2.imwrite()` to output images to file  \n",
    "`cv2.bitwise_and()` to apply a mask to an image\n",
    "\n",
    "**Check out the OpenCV documentation to learn about these and discover even more awesome functionality!**"
   ]
  },
  {
   "cell_type": "markdown",
   "metadata": {
    "deletable": true,
    "editable": true
   },
   "source": [
    "## Helper Functions"
   ]
  },
  {
   "cell_type": "markdown",
   "metadata": {
    "deletable": true,
    "editable": true
   },
   "source": [
    "Below are some helper functions to help get you started. They should look familiar from the lesson!"
   ]
  },
  {
   "cell_type": "code",
   "execution_count": null,
   "metadata": {
    "collapsed": false,
    "deletable": true,
    "editable": true,
    "scrolled": true
   },
   "outputs": [],
   "source": [
    "import math\n",
    "\n",
    "\n",
    "def grayscale(img):\n",
    "    \"\"\"Applies the Grayscale transform\n",
    "    This will return an image with only one color channel\n",
    "    but NOTE: to see the returned image as grayscale\n",
    "    (assuming your grayscaled image is called 'gray')\n",
    "    you should call plt.imshow(gray, cmap='gray')\"\"\"\n",
    "    return cv2.cvtColor(img, cv2.COLOR_RGB2GRAY)\n",
    "    # Or use BGR2GRAY if you read an image with cv2.imread()\n",
    "    # return cv2.cvtColor(img, cv2.COLOR_BGR2GRAY)\n",
    "\n",
    "\n",
    "def canny(img, low_threshold, high_threshold):\n",
    "    \"\"\"Applies the Canny transform\"\"\"\n",
    "    return cv2.Canny(img, low_threshold, high_threshold)\n",
    "\n",
    "\n",
    "def equalize(img, cl=2.0, tilegrid=(8, 8)):\n",
    "#     return cv2.createCLAHE(clipLimit=cl, tileGridSize=tilegrid).apply(img)\n",
    "    return cv2.equalizeHist(img)\n",
    "\n",
    "\n",
    "def white_mask(hsv):\n",
    "    lower_white = np.array([0,0,220])\n",
    "    upper_white = np.array([255,80,255])\n",
    "    return cv2.inRange(hsv, lower_white, upper_white)\n",
    "\n",
    "\n",
    "def yellow_mask(hsv):\n",
    "    y_min, y_max = np.array([10, 50, 220]), np.array([50, 255, 255])\n",
    "    return cv2.inRange(hsv, y_min, y_max)\n",
    "\n",
    "\n",
    "def gaussian_blur(img, kernel_size):\n",
    "    \"\"\"Applies a Gaussian Noise kernel\"\"\"\n",
    "    return cv2.GaussianBlur(img, (kernel_size, kernel_size), 0)\n",
    "\n",
    "\n",
    "def region_of_interest(img, vertices):\n",
    "    \"\"\"\n",
    "    Applies an image mask.\n",
    "    \n",
    "    Only keeps the region of the image defined by the polygon\n",
    "    formed from `vertices`. The rest of the image is set to black.\n",
    "    \"\"\"\n",
    "    #defining a blank mask to start with\n",
    "    mask = np.zeros_like(img)   \n",
    "    \n",
    "    #defining a 3 channel or 1 channel color to fill the mask with depending on the input image\n",
    "    if len(img.shape) > 2:\n",
    "        channel_count = img.shape[2]  # i.e. 3 or 4 depending on your image\n",
    "        ignore_mask_color = (255,) * channel_count\n",
    "    else:\n",
    "        ignore_mask_color = 255\n",
    "        \n",
    "    #filling pixels inside the polygon defined by \"vertices\" with the fill color    \n",
    "    cv2.fillPoly(mask, vertices, ignore_mask_color)\n",
    "    \n",
    "    #returning the image only where mask pixels are nonzero\n",
    "    masked_image = cv2.bitwise_and(img, mask)\n",
    "    return masked_image\n",
    "\n",
    "\n",
    "# def draw_lines_0(img, lines, color=[255, 0, 255], thickness=2):\n",
    "#     \"\"\"\n",
    "#     NOTE: this is the function you might want to use as a starting point once you want to \n",
    "#     average/extrapolate the line segments you detect to map out the full\n",
    "#     extent of the lane (going from the result shown in raw-lines-example.mp4\n",
    "#     to that shown in P1_example.mp4).  \n",
    "    \n",
    "#     Think about things like separating line segments by their \n",
    "#     slope ((y2-y1)/(x2-x1)) to decide which segments are part of the left\n",
    "#     line vs. the right line.  Then, you can average the position of each of \n",
    "#     the lines and extrapolate to the top and bottom of the lane.\n",
    "    \n",
    "#     This function draws `lines` with `color` and `thickness`.    \n",
    "#     Lines are drawn on the image inplace (mutates the image).\n",
    "#     If you want to make the lines semi-transparent, think about combining\n",
    "#     this function with the weighted_img() function below\n",
    "#     \"\"\"\n",
    "#     for line in lines:\n",
    "#         for x1,y1,x2,y2 in line:\n",
    "#             cv2.line(img, (x1, y1), (x2, y2), color, thickness)\n",
    "\n",
    "left_lane_history = deque()\n",
    "right_lane_history = deque()\n",
    "\n",
    "def draw_lines(img, lines, color=[255, 0, 255], thickness=5):\n",
    "    θmin = 27\n",
    "    θmax = 38\n",
    "    ymax = img.shape[0]\n",
    "\n",
    "    mmin = np.tan(np.radians(θmin))\n",
    "    mmax = np.tan(np.radians(θmax))\n",
    "\n",
    "    left_lane_lines = []\n",
    "    right_lane_lines = []\n",
    "\n",
    "    def possible_left_lane_line(m):\n",
    "        return mmin < m < mmax\n",
    "    \n",
    "    def possible_right_lane_line(m):\n",
    "        return mmin < -m < mmax\n",
    "\n",
    "    def line_to_mb(x1, y1, x2, y2):\n",
    "        m = (y1 - y2) / (x1 - x2)\n",
    "        b = (x1 * y2 - x2 * y1) / (x1 - x2)\n",
    "        return (m, b)\n",
    "    \n",
    "    def frac_to_x(img, frac):\n",
    "        _, xdim, _ = img.shape\n",
    "        return frac * xdim\n",
    "    \n",
    "    def frac_to_y(img, frac):\n",
    "        ydim, _, _ = img.shape\n",
    "        return frac * ydim\n",
    "\n",
    "    def y_intercept(x, m, b):\n",
    "        return m * x + b\n",
    "\n",
    "    def x_intercept(y, m, b):\n",
    "        return (y - b) / m\n",
    "\n",
    "    def smooth_and_draw(history, line, color):\n",
    "        if line is not None:\n",
    "            history_size = 10\n",
    "            x1, y1, x2, y2 = line\n",
    "            while len(history) < history_size + 1:\n",
    "                history.appendleft([x1, y1, x2, y2])\n",
    "\n",
    "            history.pop()\n",
    "\n",
    "        if len(history) > 0:\n",
    "            smooth = np.array(history).mean(axis=0, dtype=np.int)\n",
    "            x3, y3, x4, y4 = smooth\n",
    "\n",
    "            cv2.line(img, (int(x3), int(y3)), (int(x4), int(y4)), [255, 0, 0], 10)\n",
    "            display_slope(x3, y3, x4, y4)\n",
    "\n",
    "    def display_extrapolated_line(history, lines, color):\n",
    "        if len(lines) > 0:\n",
    "            line = np.array(lines).mean(axis=0, dtype=np.int)\n",
    "            x1, y1, x2, y2 = line[0]\n",
    "            m, b = line_to_mb(x1, y1, x2, y2)\n",
    "            yfrac3, yfrac4 = 0.6, 1.0\n",
    "            y3, y4 = frac_to_y(img, yfrac3), frac_to_y(img, yfrac4)\n",
    "            x3, x4 = x_intercept(y3, m, b), x_intercept(y4, m, b)\n",
    "            smooth_and_draw(history, (x3, y3, x4, y4), color)\n",
    "#             cv2.line(img, (int(x3), int(y3)), (int(x4), int(y4)), color, thickness)\n",
    "        else:\n",
    "            smooth_and_draw(history, None, color)\n",
    "\n",
    "#     def display_avg_line(lines, color):\n",
    "#         if len(lines) > 0:\n",
    "#             line = np.array(lines).mean(axis=0, dtype=np.int)\n",
    "#             x1, y1, x2, y2 = line[0]\n",
    "#             cv2.line(img, (int(x1), int(y1)), (int(x2), int(y2)), color, thickness//2)\n",
    "#             display_slope(x1, y1, x2, y2)\n",
    "\n",
    "    def display_slope(x1, y1, x2, y2):\n",
    "        font = cv2.FONT_HERSHEY_SIMPLEX\n",
    "        m = (y2 - y1) / (x2 - x1)\n",
    "        cv2.putText(img, \"{:+.2f}\".format(np.degrees(-np.arctan(m))), (int(x1 + x2)//2 - 60, int(y1 + y2)//2), font, 1, (255,255,255), 2, cv2.LINE_AA)\n",
    "\n",
    "    def display_lines(lines, color):\n",
    "        if len(lines) > 0:\n",
    "            for line in lines:\n",
    "                for x1, y1, x2, y2 in line:\n",
    "                    cv2.line(img, (int(x1), int(y1)), (int(x2), int(y2)), color, 2)\n",
    "                    # display_slope(x1, y1, x2, y2)\n",
    "\n",
    "    for line in lines:\n",
    "        for x1, y1, x2, y2 in line:\n",
    "            m = (y2 - y1) / (x2 - x1)\n",
    "            if possible_left_lane_line(m):\n",
    "                left_lane_lines.append(line)\n",
    "            elif possible_right_lane_line(m):\n",
    "                right_lane_lines.append(line)\n",
    "\n",
    "    display_extrapolated_line(left_lane_history, left_lane_lines, [255, 255, 0])\n",
    "    display_extrapolated_line(right_lane_history, right_lane_lines, [0, 255, 255])\n",
    "    display_lines(left_lane_lines, [0, 255, 0])\n",
    "    display_lines(right_lane_lines, [0, 255, 0])\n",
    "\n",
    "\n",
    "def hough_lines(img, rho, theta, threshold, min_line_len, max_line_gap):\n",
    "    \"\"\"\n",
    "    `img` should be the output of a Canny transform.\n",
    "        \n",
    "    Returns an image with hough lines drawn.\n",
    "    \"\"\"\n",
    "    lines = cv2.HoughLinesP(img, rho, theta, threshold, np.array([]), minLineLength=min_line_len, maxLineGap=max_line_gap)\n",
    "    line_img = np.zeros((img.shape[0], img.shape[1], 3), dtype=np.uint8)\n",
    "    if lines is not None:\n",
    "        draw_lines(line_img, lines, [255, 0, 0])\n",
    "    return line_img\n",
    "\n",
    "# Python 3 has support for cool math symbols.\n",
    "\n",
    "def weighted_img(img, initial_img, α=1.0, β=0.8, λ=0.):\n",
    "    \"\"\"\n",
    "    `img` is the output of the hough_lines(), An image with lines drawn on it.\n",
    "    Should be a blank image (all black) with lines drawn on it.\n",
    "    \n",
    "    `initial_img` should be the image before any processing.\n",
    "    \n",
    "    The result image is computed as follows:\n",
    "    \n",
    "    initial_img * α + img * β + λ\n",
    "    NOTE: initial_img and img must be the same shape!\n",
    "    \"\"\"\n",
    "    return cv2.addWeighted(initial_img, α, img, β, λ)"
   ]
  },
  {
   "cell_type": "markdown",
   "metadata": {
    "deletable": true,
    "editable": true
   },
   "source": [
    "## Test Images\n",
    "\n",
    "Build your pipeline to work on the images in the directory \"test_images\"  \n",
    "**You should make sure your pipeline works well on these images before you try the videos.**"
   ]
  },
  {
   "cell_type": "code",
   "execution_count": null,
   "metadata": {
    "collapsed": false,
    "deletable": true,
    "editable": true,
    "scrolled": true
   },
   "outputs": [],
   "source": [
    "import os\n",
    "os.listdir(\"test_images/\")"
   ]
  },
  {
   "cell_type": "markdown",
   "metadata": {
    "deletable": true,
    "editable": true
   },
   "source": [
    "## Build a Lane Finding Pipeline\n",
    "\n"
   ]
  },
  {
   "cell_type": "markdown",
   "metadata": {
    "deletable": true,
    "editable": true
   },
   "source": [
    "Build the pipeline and run your solution on all test_images. Make copies into the test_images directory, and you can use the images in your writeup report.\n",
    "\n",
    "Try tuning the various parameters, especially the low and high Canny thresholds as well as the Hough lines parameters."
   ]
  },
  {
   "cell_type": "code",
   "execution_count": null,
   "metadata": {
    "collapsed": true,
    "deletable": true,
    "editable": true
   },
   "outputs": [],
   "source": [
    "# TODO: Build your pipeline that will draw lane lines on the test_images\n",
    "# then save them to the test_images directory.\n",
    "import random\n",
    "\n",
    "def trapezium(img_shape, yoffset=0.6, topwidth=0.1, bottomwidth=0.9):\n",
    "    ydim, xdim, _ = img_shape\n",
    "    return np.array([[\n",
    "        (xdim * (0.5 - bottomwidth/2),ydim),\n",
    "        (xdim * (0.5 - topwidth/2), ydim * yoffset),\n",
    "        (xdim * (0.5 + topwidth/2), ydim * yoffset),\n",
    "        (xdim * (0.5 + bottomwidth/2), ydim)\n",
    "    ]], dtype=np.int32)\n",
    "\n",
    "\n",
    "def mask_to_rgb(img):\n",
    "    line_img = np.zeros((img.shape[0], img.shape[1], 3), dtype=np.uint8)\n",
    "\n",
    "\n",
    "def darken(image, value):\n",
    "    out = cv2.cvtColor(image, cv2.COLOR_GRAY2RGB)\n",
    "    out = cv2.cvtColor(out, cv2.COLOR_RGB2HSV)\n",
    "    out[:,:,2] = (out[:,:,2] * value).astype(int)\n",
    "    out = cv2.cvtColor(out, cv2.COLOR_HSV2RGB)\n",
    "    return cv2.cvtColor(out, cv2.COLOR_RGB2GRAY)\n",
    "\n",
    "\n",
    "def find_lanes(image, kernel_size=5, canny_low=30, canny_high=90, hough_rho=1, hough_theta=np.pi/180, hough_thresh=30, hough_line_min_len=120, hough_line_max_gap=200, plot=False):\n",
    "    \"\"\"\n",
    "    # hough_rho distance resolution in pixels of the Hough grid\n",
    "    # hough_theta angular resolution in radians of the Hough grid\n",
    "    # hough_thresh minimum number of votes (intersections in Hough grid cell)\n",
    "    # hough_line_min_len minimum number of pixels making up a line\n",
    "    # hough_line_max_gap maximum gap in pixels between connectable line segments\n",
    "    \"\"\"\n",
    "    figsize=(20, 20)\n",
    "    gray = grayscale(image)\n",
    "    enhanced = equalize(gray)\n",
    "    enhanced = darken(enhanced, 0.3)\n",
    "\n",
    "    hsv = cv2.cvtColor(image, cv2.COLOR_RGB2HSV)\n",
    "    ymask = yellow_mask(hsv)\n",
    "    wmask = white_mask(hsv)\n",
    "    mask = cv2.bitwise_or(ymask, wmask)\n",
    "    enhanced = cv2.bitwise_or(enhanced, mask)\n",
    "\n",
    "    blurred = gaussian_blur(enhanced, kernel_size)\n",
    "    edges = canny(blurred, canny_low, canny_high)\n",
    "#     return blurred\n",
    "\n",
    "    masked_edges = region_of_interest(edges, trapezium(image.shape, yoffset=0.6, topwidth=0.08, bottomwidth=0.9))\n",
    "#     return masked_edges\n",
    "    if plot:\n",
    "        plt.figure(figsize=figsize)\n",
    "        plt.imshow(masked_edges, cmap='gray')\n",
    "\n",
    "    lines_image = hough_lines(masked_edges, hough_rho, hough_theta, hough_thresh, hough_line_min_len, hough_line_max_gap)\n",
    "\n",
    "    out = image.copy()\n",
    "    detected = cv2.cvtColor(masked_edges, cv2.COLOR_GRAY2RGB)\n",
    "    detected = weighted_img(detected, lines_image, α=1.0, β=0.7, λ=0.)\n",
    "    out = weighted_img(detected, out, α=1.0, β=0.4, λ=0.)\n",
    "\n",
    "#     out = image.copy()\n",
    "#     out = weighted_img(lines_image, out, α=0.8, β=0.4, λ=0.)\n",
    "    \n",
    "    return out\n",
    "\n",
    "\n",
    "def image_sample():\n",
    "    images = os.listdir(\"test_images/\")\n",
    "    filename = \"test_images/{}\".format(random.choice(images))\n",
    "    return filename\n",
    "\n",
    "def find_all_lanes(directory):\n",
    "    images = os.listdir(directory)\n",
    "    for img in images:\n",
    "        filename = \"{}/{}\".format(directory, img)\n",
    "        image = mpimg.imread(filename)\n",
    "\n",
    "        fig = plt.figure(figsize=(15, 15))\n",
    "        fig.add_subplot(121)\n",
    "        plt.imshow(image)\n",
    "        \n",
    "        fig.add_subplot(122)\n",
    "        plt.imshow(find_lanes(image, **args))"
   ]
  },
  {
   "cell_type": "code",
   "execution_count": null,
   "metadata": {
    "collapsed": false,
    "deletable": true,
    "editable": true,
    "scrolled": false
   },
   "outputs": [],
   "source": [
    "args3 = {\n",
    "    'kernel_size': 7,\n",
    "    'canny_low': 50,\n",
    "    'canny_high': 150,\n",
    "    'hough_rho': 1,\n",
    "    'hough_theta': np.pi/180.0,\n",
    "    'hough_thresh': 50,\n",
    "    'hough_line_min_len': 80,\n",
    "    'hough_line_max_gap': 120\n",
    "}\n",
    "\n",
    "args4 = {\n",
    "    'kernel_size': 9,\n",
    "    'canny_low': 30,\n",
    "    'canny_high': 30 * 3,\n",
    "    'hough_rho': 1,\n",
    "    'hough_theta': np.pi/180.0,\n",
    "    'hough_thresh': 35,\n",
    "    'hough_line_min_len': 20,\n",
    "    'hough_line_max_gap': 20\n",
    "}\n",
    "\n",
    "args = args4\n",
    "directory = \"test_images/\"\n",
    "images = os.listdir(directory)\n",
    "\n",
    "@interact(img=images,kernel_size=(3,19,2), canny_low=(0,200,10), canny_ratio=[2,3],\n",
    "          hough_rho=(1,20,1), hough_theta=(1,20,1), hough_thresh=(0,100,1),\n",
    "          hough_line_min_len=(0,400,20), hough_line_max_gap=(0,400,20))\n",
    "def detect(img, kernel_size=9, canny_low=30, canny_ratio=3,\n",
    "           hough_rho=1, hough_theta=1, hough_thresh=35,\n",
    "           hough_line_min_len=20, hough_line_max_gap=60):\n",
    "    global left_lane_history\n",
    "    global right_lane_history\n",
    "    left_lane_history = deque()\n",
    "    right_lane_history = deque()\n",
    "\n",
    "    filename = \"{}/{}\".format(directory, img)\n",
    "    image = mpimg.imread(filename)\n",
    "    plt.figure(figsize=(10, 10))\n",
    "    plt.imshow(find_lanes(image, kernel_size=kernel_size, canny_low=canny_low, canny_high=canny_low*canny_ratio,\n",
    "                          hough_rho=hough_rho, hough_theta=hough_theta*np.pi/180., hough_thresh=hough_thresh,\n",
    "                          hough_line_min_len=hough_line_min_len, hough_line_max_gap=hough_line_max_gap))\n",
    "\n",
    "# find_all_lanes(\"test_images\")"
   ]
  },
  {
   "cell_type": "markdown",
   "metadata": {
    "deletable": true,
    "editable": true
   },
   "source": [
    "## Test on Videos\n",
    "\n",
    "You know what's cooler than drawing lanes over images? Drawing lanes over video!\n",
    "\n",
    "We can test our solution on two provided videos:\n",
    "\n",
    "`solidWhiteRight.mp4`\n",
    "\n",
    "`solidYellowLeft.mp4`\n",
    "\n",
    "**Note: if you get an `import error` when you run the next cell, try changing your kernel (select the Kernel menu above --> Change Kernel).  Still have problems?  Try relaunching Jupyter Notebook from the terminal prompt. Also, check out [this forum post](https://carnd-forums.udacity.com/questions/22677062/answers/22677109) for more troubleshooting tips.**\n",
    "\n",
    "**If you get an error that looks like this:**\n",
    "```\n",
    "NeedDownloadError: Need ffmpeg exe. \n",
    "You can download it by calling: \n",
    "imageio.plugins.ffmpeg.download()\n",
    "```\n",
    "**Follow the instructions in the error message and check out [this forum post](https://carnd-forums.udacity.com/display/CAR/questions/26218840/import-videofileclip-error) for more troubleshooting tips across operating systems.**"
   ]
  },
  {
   "cell_type": "code",
   "execution_count": null,
   "metadata": {
    "collapsed": false,
    "deletable": true,
    "editable": true,
    "scrolled": true
   },
   "outputs": [],
   "source": [
    "# Import everything needed to edit/save/watch video clips\n",
    "from moviepy.editor import VideoFileClip\n",
    "from IPython.display import HTML"
   ]
  },
  {
   "cell_type": "code",
   "execution_count": null,
   "metadata": {
    "collapsed": true,
    "deletable": true,
    "editable": true,
    "scrolled": true
   },
   "outputs": [],
   "source": [
    "def process_image(image):\n",
    "    # NOTE: The output you return should be a color image (3 channel) for processing video below\n",
    "    # TODO: put your pipeline here,\n",
    "    # you should return the final output (image where lines are drawn on lanes)\n",
    "\n",
    "    return find_lanes(image, **args)"
   ]
  },
  {
   "cell_type": "markdown",
   "metadata": {
    "deletable": true,
    "editable": true
   },
   "source": [
    "Let's try the one with the solid white lane on the right first ..."
   ]
  },
  {
   "cell_type": "code",
   "execution_count": null,
   "metadata": {
    "collapsed": false,
    "deletable": true,
    "editable": true,
    "scrolled": true
   },
   "outputs": [],
   "source": [
    "left_lane_history = deque()\n",
    "right_lane_history = deque()\n",
    "\n",
    "white_output = 'out/white.mp4'\n",
    "clip1 = VideoFileClip(\"solidWhiteRight.mp4\")\n",
    "white_clip = clip1.fl_image(process_image) #NOTE: this function expects color images!!\n",
    "%time white_clip.write_videofile(white_output, audio=False)"
   ]
  },
  {
   "cell_type": "markdown",
   "metadata": {
    "deletable": true,
    "editable": true
   },
   "source": [
    "Play the video inline, or if you prefer find the video in your filesystem (should be in the same directory) and play it in your video player of choice."
   ]
  },
  {
   "cell_type": "code",
   "execution_count": null,
   "metadata": {
    "collapsed": false,
    "deletable": true,
    "editable": true
   },
   "outputs": [],
   "source": [
    "HTML(\"\"\"\n",
    "<video width=\"960\" height=\"540\" controls>\n",
    "  <source src=\"{0}\">\n",
    "</video>\n",
    "\"\"\".format(white_output))"
   ]
  },
  {
   "cell_type": "markdown",
   "metadata": {
    "deletable": true,
    "editable": true
   },
   "source": [
    "## Improve the draw_lines() function\n",
    "\n",
    "**At this point, if you were successful with making the pipeline and tuning parameters, you probably have the Hough line segments drawn onto the road, but what about identifying the full extent of the lane and marking it clearly as in the example video (P1_example.mp4)?  Think about defining a line to run the full length of the visible lane based on the line segments you identified with the Hough Transform. As mentioned previously, try to average and/or extrapolate the line segments you've detected to map out the full extent of the lane lines. You can see an example of the result you're going for in the video \"P1_example.mp4\".**\n",
    "\n",
    "**Go back and modify your draw_lines function accordingly and try re-running your pipeline. The new output should draw a single, solid line over the left lane line and a single, solid line over the right lane line. The lines should start from the bottom of the image and extend out to the top of the region of interest.**"
   ]
  },
  {
   "cell_type": "markdown",
   "metadata": {
    "deletable": true,
    "editable": true
   },
   "source": [
    "Now for the one with the solid yellow lane on the left. This one's more tricky!"
   ]
  },
  {
   "cell_type": "code",
   "execution_count": null,
   "metadata": {
    "collapsed": false,
    "deletable": true,
    "editable": true,
    "scrolled": true
   },
   "outputs": [],
   "source": [
    "left_lane_history = deque()\n",
    "right_lane_history = deque()\n",
    "\n",
    "yellow_output = 'out/yellow.mp4'\n",
    "clip2 = VideoFileClip('solidYellowLeft.mp4')\n",
    "yellow_clip = clip2.fl_image(process_image)\n",
    "%time yellow_clip.write_videofile(yellow_output, audio=False)"
   ]
  },
  {
   "cell_type": "code",
   "execution_count": null,
   "metadata": {
    "collapsed": false,
    "deletable": true,
    "editable": true
   },
   "outputs": [],
   "source": [
    "HTML(\"\"\"\n",
    "<video width=\"960\" height=\"540\" controls>\n",
    "  <source src=\"{0}\">\n",
    "</video>\n",
    "\"\"\".format(yellow_output))"
   ]
  },
  {
   "cell_type": "markdown",
   "metadata": {
    "deletable": true,
    "editable": true
   },
   "source": [
    "## Writeup and Submission\n",
    "\n",
    "If you're satisfied with your video outputs, it's time to make the report writeup in a pdf or markdown file. Once you have this Ipython notebook ready along with the writeup, it's time to submit for review! Here is a [link](https://github.com/udacity/CarND-LaneLines-P1/blob/master/writeup_template.md) to the writeup template file.\n"
   ]
  },
  {
   "cell_type": "markdown",
   "metadata": {
    "collapsed": true,
    "deletable": true,
    "editable": true
   },
   "source": [
    "## Optional Challenge\n",
    "\n",
    "Try your lane finding pipeline on the video below.  Does it still work?  Can you figure out a way to make it more robust?  If you're up for the challenge, modify your pipeline so it works with this video and submit it along with the rest of your project!"
   ]
  },
  {
   "cell_type": "code",
   "execution_count": null,
   "metadata": {
    "collapsed": false,
    "deletable": true,
    "editable": true,
    "scrolled": true
   },
   "outputs": [],
   "source": [
    "left_lane_history = deque()\n",
    "right_lane_history = deque()\n",
    "\n",
    "challenge_output = 'out/extra.mp4'\n",
    "clip2 = VideoFileClip('challenge.mp4')\n",
    "# clip2 = clip2.resize((960, 540))\n",
    "processor = LaneImageProcessor(LaneDetector(), history_size=10, debug=False)\n",
    "challenge_clip = clip2.fl_image(processor.process_as_image)\n",
    "%time challenge_clip.write_videofile(challenge_output, audio=False)"
   ]
  },
  {
   "cell_type": "code",
   "execution_count": null,
   "metadata": {
    "collapsed": false,
    "deletable": true,
    "editable": true,
    "scrolled": false
   },
   "outputs": [],
   "source": [
    "HTML(\"\"\"\n",
    "<video width=\"960\" height=\"540\" controls>\n",
    "  <source src=\"{0}\">\n",
    "</video>\n",
    "\"\"\".format(challenge_output))"
   ]
  },
  {
   "cell_type": "code",
   "execution_count": null,
   "metadata": {
    "collapsed": false,
    "deletable": true,
    "editable": true,
    "scrolled": false
   },
   "outputs": [],
   "source": [
    "def extract_frames():\n",
    "    challenge_output = 'out/extra.mp4'\n",
    "    clip2 = VideoFileClip('challenge.mp4')\n",
    "\n",
    "    for t in np.arange(0, 10, 0.5):\n",
    "        clip2 = clip2.resize((960, 540))\n",
    "        clip2.save_frame('in/{}-{}.jpg'.format(challenge_output.split('/')[-1], t), t)\n",
    "\n",
    "# extract_frames()"
   ]
  },
  {
   "cell_type": "code",
   "execution_count": null,
   "metadata": {
    "collapsed": true,
    "deletable": true,
    "editable": true,
    "scrolled": true
   },
   "outputs": [],
   "source": []
  }
 ],
 "metadata": {
  "anaconda-cloud": {},
  "kernelspec": {
   "display_name": "Python 3",
   "language": "python",
   "name": "python3"
  },
  "language_info": {
   "codemirror_mode": {
    "name": "ipython",
    "version": 3
   },
   "file_extension": ".py",
   "mimetype": "text/x-python",
   "name": "python",
   "nbconvert_exporter": "python",
   "pygments_lexer": "ipython3",
   "version": "3.5.2"
  },
  "widgets": {
   "state": {
    "00b04687199f417999a0716ac5dad2fa": {
     "views": []
    },
    "0138081162c347b4861dac5f08a95bd8": {
     "views": []
    },
    "03c3039e8e8c4a139387521696dccc38": {
     "views": []
    },
    "0477e2f3055446b2b1c5a29b45ac3d5c": {
     "views": []
    },
    "057816ffa9fe4af99a09f4f4a647cc57": {
     "views": []
    },
    "06414973dd89468db1a773da294a27b4": {
     "views": []
    },
    "076cb76aea5b45389e7c68c9df872b21": {
     "views": []
    },
    "076f3d32ba114c81bf6083f874c0dd38": {
     "views": []
    },
    "0810cc8aa3964bbbb94951374cea3e0f": {
     "views": []
    },
    "08820bc8172847bd9c1a39c61f05261d": {
     "views": []
    },
    "095f1c939fbf4b07add883c4a674c978": {
     "views": []
    },
    "0966b20e05c8432fb6bf6758943d7aa7": {
     "views": []
    },
    "0990b56008604cb7ad376185a47790e7": {
     "views": []
    },
    "0a3713c50c22412fa1076896e07c3c8a": {
     "views": []
    },
    "0ba3021590fa4173bb53e1a2cf795473": {
     "views": []
    },
    "0bd6f75422fd401b845aa259b1ffeadc": {
     "views": []
    },
    "0c4c011fe2aa4a30b937c7378b26d670": {
     "views": []
    },
    "0d0b80ac70694402ba9c7f81d76580c9": {
     "views": []
    },
    "0dca0729dc5044b9b0f6f04944f4c8ab": {
     "views": []
    },
    "0df42ee55fed4ca7875b4889cda9eaab": {
     "views": []
    },
    "0df471bf9c9943bd9bdd4f29748f8b49": {
     "views": []
    },
    "0e54941ba1b248b9967b1390760ac63c": {
     "views": []
    },
    "0e64cc1fa0ec404a9f06e12cb344de4e": {
     "views": []
    },
    "0ec8d478f0c64b1a81b3640f80fa2f1d": {
     "views": []
    },
    "0f219d4e02414488b5fdd617d582eba7": {
     "views": []
    },
    "0ffe91914ffb40acb20c5feeb4697b08": {
     "views": []
    },
    "10c396186a434402b5b529329bdf8fd0": {
     "views": []
    },
    "113c411b7e7b4dab8111be58da62e4a2": {
     "views": []
    },
    "12130325e09245ffb871dbb8287b76d4": {
     "views": []
    },
    "14746cda13e8495ca59a184be2df1724": {
     "views": []
    },
    "15faa89511ab4d66962f4e0d0c112a56": {
     "views": []
    },
    "162f118f3c6644faa3da7b1dae8e3eb8": {
     "views": []
    },
    "1712ab53990e476487b4d1d87409dc79": {
     "views": []
    },
    "199b41e119764c72b4c2cac504c826ac": {
     "views": []
    },
    "1a2a7c9523254f75899c57abe7fe8657": {
     "views": []
    },
    "1afbaad27d284163a07c8d8644df8e08": {
     "views": []
    },
    "1b59f5988278438abfca20341a572c05": {
     "views": []
    },
    "1bdfb7f84e4d4774b3be1f3d97cd6747": {
     "views": []
    },
    "1bf46031bb4a4c69bfae696a33351ff8": {
     "views": []
    },
    "1ee1af30ba45469da9b724628280c015": {
     "views": []
    },
    "1f69d98149c146c5be4879b484723988": {
     "views": []
    },
    "1fb8debb2d2a4ddc9f096160495283fc": {
     "views": []
    },
    "20a7de6b968948ecafe2bbe1b205c1b6": {
     "views": []
    },
    "216f10eb416e438a9907fece345806be": {
     "views": []
    },
    "2332589a7ff741c98dbabd4ea0066400": {
     "views": []
    },
    "254a316e3ffb469b85b2999841da9cf7": {
     "views": []
    },
    "2563a0317ecb4b0990a448536df28382": {
     "views": []
    },
    "25fac6d76a99443191539a2f3dcd0224": {
     "views": []
    },
    "26005d535caf489d89b731d7dd95489f": {
     "views": []
    },
    "264ec7b658ee4dbcbc023f6e5e9cd1d2": {
     "views": []
    },
    "272825f908b34489b14e4f36b4a1b48e": {
     "views": []
    },
    "276050952d2444268482de7344d81be6": {
     "views": []
    },
    "2b80314296374f92b4a50929fa357ce0": {
     "views": []
    },
    "2c07f686f4a14ae8bec4437e4e1f764e": {
     "views": []
    },
    "2c7a00e3072b4fa782cb88784ebdd528": {
     "views": []
    },
    "2cc6046830c64796a2386e28d0c643b4": {
     "views": []
    },
    "2dd3921cda574c5cb9e3c17da5fc35ad": {
     "views": []
    },
    "2e3e515161874b088cfc324eebded115": {
     "views": []
    },
    "2f1fc7613477474caf6244d6ef289fce": {
     "views": []
    },
    "303d0053c4df40cf890e0af3e77a2171": {
     "views": []
    },
    "30a49616f87545a48fccd246360ed5a8": {
     "views": []
    },
    "3268a723b4824f17956cc8474648c53a": {
     "views": []
    },
    "32e02ed499fc4cf395347a82d370e022": {
     "views": []
    },
    "332c617ca07d4b399387222e635f7bf4": {
     "views": []
    },
    "3436a87e1488425bbee2e22616f6e23e": {
     "views": []
    },
    "35d2ddd6f0224cd69f98b319d0113c61": {
     "views": []
    },
    "36ac80c8ebe7467eb9e169e35cbdb411": {
     "views": []
    },
    "373cf00caa5f406eaeed4b94853eb5c6": {
     "views": []
    },
    "3837068b0f4e4a5eb8650fd03aaa5687": {
     "views": []
    },
    "38e59bed3a114954a8e20355e9ee32a5": {
     "views": []
    },
    "39025be9ebf04451a9beceab4cae4f1d": {
     "views": []
    },
    "3978d7c9bec04aca88ce535b9d6e273f": {
     "views": []
    },
    "3b437c4fa4fc4ea79107cbfa836a556c": {
     "views": []
    },
    "3c62990eeb7f4c4190d7d96380928d6a": {
     "views": []
    },
    "3edb7a2f29784ce5ae6c4c54c5e2455b": {
     "views": []
    },
    "3f16d873e0f84c0ba1cf927339e465e3": {
     "views": []
    },
    "3fc96260eaef401191e0379e9b60f18b": {
     "views": [
      {
       "cell_index": 11
      }
     ]
    },
    "3ff15fc202734f26b0c8b3e8ade41e1c": {
     "views": []
    },
    "404daabaee8941d08c46a38ad9d38e62": {
     "views": []
    },
    "40888ec327bd47e481ac6285037b0577": {
     "views": []
    },
    "4094dc2588404d86a96c325451db2d1e": {
     "views": []
    },
    "449d72add5bf4b68937580e229469d07": {
     "views": []
    },
    "463a03837db843d5be8212d87889aad8": {
     "views": []
    },
    "474de2afad294fa1b80314454b9bafd8": {
     "views": []
    },
    "47cf9209416f4dd9a12e0ab37dbe167f": {
     "views": []
    },
    "497cf1e0f83d43aea6ed259756a4cce8": {
     "views": []
    },
    "49960cadbbea41e98173d490f876d122": {
     "views": []
    },
    "49f50f6fa04a461aa766ef0d74931e68": {
     "views": []
    },
    "4a383412848d48feb7e60dc0b3a911ab": {
     "views": []
    },
    "4ae08e72f8a64966898a42aaf8adaf73": {
     "views": []
    },
    "4bd89b223a64464f9f331f0ce2c0ec15": {
     "views": []
    },
    "4d2904efad7b46a89a1f85b378c402a8": {
     "views": []
    },
    "4e070ed3fa1e461399dc0b83c4643712": {
     "views": []
    },
    "4e9c167185ac4ae6b2204b69f49e827c": {
     "views": []
    },
    "4f19e64cd3364c8fbdb90de8465684d8": {
     "views": []
    },
    "4f230d314fb144979c830d49c4f952d9": {
     "views": []
    },
    "4fdf57e6c1264a3589e8926476bee2a3": {
     "views": []
    },
    "4ff793898bd44f1baf41b8b56f159abf": {
     "views": []
    },
    "5078211995e14cd48f353ad0e961fff7": {
     "views": []
    },
    "509f1daaf3fd45efae16eaf6323d049b": {
     "views": []
    },
    "51099f0026974f68acc31665b532e308": {
     "views": []
    },
    "518fe7207bfb4344a373cb98162aad3f": {
     "views": []
    },
    "534ca734697642f7bf4ec3b7921cead1": {
     "views": []
    },
    "535a87485c904823b48cb8e170f5a057": {
     "views": []
    },
    "54615ac13b604164bf9d8a701b41b554": {
     "views": []
    },
    "556713ac4094453cadb3dcdf4cda4e5e": {
     "views": []
    },
    "55bd46c4ce544158aa5a765047b52303": {
     "views": []
    },
    "56cb3344d8134422ac16ae3f94cedd03": {
     "views": []
    },
    "56ddee4b823644baac6db1051331c207": {
     "views": []
    },
    "56fa762cdc144981bb6b055881e98250": {
     "views": []
    },
    "57964ff1499c44c2aa407b39f3adbd53": {
     "views": []
    },
    "5842980e716b402695dee14060fed519": {
     "views": []
    },
    "586abec7887143ef982b441a735b6abe": {
     "views": []
    },
    "58a489b7b90d46e5af7100c8f17445d1": {
     "views": []
    },
    "5985339e86ba44febca0659f30d4c2ea": {
     "views": []
    },
    "5b2c106b2e68465ca35a4eb139624769": {
     "views": []
    },
    "5bfe49dd369144278e8e9887d531c106": {
     "views": []
    },
    "5c4659d8182b4ad9ad9d3fbffa46a161": {
     "views": []
    },
    "5eda635bbc6a4ee1babfb861c60f715e": {
     "views": []
    },
    "5f1cf3b7c4f4468e835e74d16cc4c8e3": {
     "views": [
      {
       "cell_index": 23
      }
     ]
    },
    "5fd9cb0bd5454e3fb2d5969f850a95b2": {
     "views": []
    },
    "621d231979ec4a458ab6968136aec0f2": {
     "views": []
    },
    "6495ab75827041c4b504d07df6d9708b": {
     "views": []
    },
    "650f7a8907ec4ee5866dc54964b1a55f": {
     "views": []
    },
    "6549bf1938274ef380023fe34e502f81": {
     "views": []
    },
    "69384109c16d44028f426cfe3bbd329b": {
     "views": []
    },
    "6c4d356cf9c143e082b36e4310d69d38": {
     "views": []
    },
    "6c89494c08bd401d8569fcb66e10929f": {
     "views": []
    },
    "6c909216ef534ae482214802e49807ee": {
     "views": []
    },
    "6fa5bd3f14a547a99b31db3b6ab8e067": {
     "views": []
    },
    "6fd3053a82ff47eaad9fccf80d0f75b3": {
     "views": []
    },
    "70bce3b70282477b9cf93947da0eed7d": {
     "views": []
    },
    "717ddaa27b934929bcf84d06acd0e352": {
     "views": []
    },
    "7258fce58ca24f8cba38d452dc3d3076": {
     "views": []
    },
    "75e5749f1e7f4ef88ccc6c697a8f765d": {
     "views": []
    },
    "77d96bcafe8f4f98bd34c290aaf7f277": {
     "views": []
    },
    "78630593d40d49c39f9e3911fe1e7777": {
     "views": []
    },
    "7892e5a7ba544f7e888e2bfcdcc79b82": {
     "views": []
    },
    "78a5deff118646b09cbe06e648944073": {
     "views": []
    },
    "78cb188ff0664f21a63004cc378934d5": {
     "views": []
    },
    "79521fd9b9fc41759d2a9d45e66580ca": {
     "views": []
    },
    "7987d68361c1418fbaa965a5e3c0d3e4": {
     "views": []
    },
    "79e9383ba5fa4538b1ed9e3c4ca4f9af": {
     "views": []
    },
    "7b0fa40a21564509b27b296ba5fc9392": {
     "views": []
    },
    "7b3e1f913f4343458b98cbd752d2ef7a": {
     "views": []
    },
    "7b7d162ca21b4f8bab8459d37eec1ea0": {
     "views": []
    },
    "7b981086d5b24ab8973bcd8af44eba42": {
     "views": []
    },
    "7bd36a1f45e54801a8bbc854bc131c05": {
     "views": []
    },
    "7ca08e4825af474cb4d0797bb519a40f": {
     "views": []
    },
    "7ca675a6904140f1a96f8a9927ba3a25": {
     "views": []
    },
    "7cc4f26faefb44d1b38b34f64223e71d": {
     "views": []
    },
    "7de22b35c02d4321b9e3d91b2da0e13f": {
     "views": []
    },
    "7f1d388435c14f15b55dfb8b24e25d99": {
     "views": []
    },
    "7f4f4971333a41f8a41228762a44c2ce": {
     "views": []
    },
    "7f6b52666c2b49088c6f3e6b5a7981c4": {
     "views": []
    },
    "7f7be28094ac4fce99548a9ad3a356d3": {
     "views": []
    },
    "7fc4b4e22eba4d479eaf7b299ed2ce23": {
     "views": []
    },
    "7fda262b20bd47c4a4186d716adee53c": {
     "views": []
    },
    "8312ffa462564304b002d378d63ee827": {
     "views": []
    },
    "848184b9deaf400998a92841718468d0": {
     "views": []
    },
    "84d3b5b1369c4a12a893477331eb0f9e": {
     "views": []
    },
    "856aa2f628e34bf89873e7d54fb1ff37": {
     "views": []
    },
    "85cbdcd7337e45139302010c0c71024f": {
     "views": []
    },
    "85cd36027c2b478d83d33cf52985736b": {
     "views": []
    },
    "86f0bd92eded40ed866a46e40e8d801d": {
     "views": []
    },
    "8879c9096a7648b2a3711415090fdb08": {
     "views": []
    },
    "88d47e7aac51477393670f153e1a77a5": {
     "views": []
    },
    "8a2feb5588af4623b2ef284340fe3e21": {
     "views": []
    },
    "8c1211b102af42f188f18fb46d4b7fe6": {
     "views": []
    },
    "8c4bc7f31b414d41bc671b15e65495d6": {
     "views": []
    },
    "8ca0948a097d404bbaecabd5d57945bc": {
     "views": []
    },
    "8ed3ce8582cf48c280e68538227c40a7": {
     "views": []
    },
    "8eea9a405ac245679a8d5c39e846ab74": {
     "views": []
    },
    "903c2cc7a8864dea80e8dcf5771f8a0e": {
     "views": []
    },
    "9112d0e891ad49cf88c5ef3fec883b60": {
     "views": []
    },
    "91a9d3a7a12c4c9f83b0f541f7779fd8": {
     "views": []
    },
    "9434d7f6ebd94910b0e1bd9fad6e6370": {
     "views": []
    },
    "949a5ca8f70a474b913cc7cbb1b2b6fb": {
     "views": []
    },
    "9501c3c2e38f475395e54e43159a66aa": {
     "views": []
    },
    "965648ba460643acb0f87512c2d7dc16": {
     "views": []
    },
    "973582785b6f41ab846ac3fa24122a4b": {
     "views": []
    },
    "97788be627474e719109943b1de91b72": {
     "views": []
    },
    "98192a2694bd4abf80e8c8981c276bc1": {
     "views": []
    },
    "995e203422c744a8956f0a0ae8b4a44a": {
     "views": []
    },
    "99a61898a32847b2bf8fd901f7526197": {
     "views": []
    },
    "99c0c17cb8e64100b820546ff7ae3ef8": {
     "views": []
    },
    "99ed5b3bc98243f1a15049e6a632dbc3": {
     "views": []
    },
    "9a3e6089ea1a4ebb8aa59cc53f890c71": {
     "views": []
    },
    "9cb9021953464f9b9861b7c6689a1cea": {
     "views": []
    },
    "9dc64d4bc882418d9ec6e1fd5dfd377b": {
     "views": []
    },
    "9dd0870d9e0347b4930d383bfabc5cb0": {
     "views": []
    },
    "9ddf485a6f754662a68fa08b99141f4b": {
     "views": []
    },
    "a00418f0d3a7441281ace9a59e8d9a00": {
     "views": []
    },
    "a0aac1c341fc490aba73834b4e565c91": {
     "views": []
    },
    "a0b89ba24cde44a5b93f3e0d0d4bd342": {
     "views": []
    },
    "a180a21aa69f449bb386c93187da1e4e": {
     "views": []
    },
    "a2442f42ffea4b66b062f9c109df5523": {
     "views": []
    },
    "a31d3e8357f547689fee1c7f2c7433b6": {
     "views": []
    },
    "a455bce11f0841429a4a32afed5cbbb5": {
     "views": []
    },
    "a62b87736fa14f0fa0d194d2e49e93cb": {
     "views": []
    },
    "a72ad3e90d174eb4838a87378f25d2e0": {
     "views": []
    },
    "a8f9dc5d1e374bb3a118c6733b408895": {
     "views": []
    },
    "a9635bfc3df54cf081cfd260b73b3862": {
     "views": []
    },
    "aa287b7577874ea9b05da7265f843561": {
     "views": []
    },
    "acb66c17e7724d2ebe1a2b51157f8565": {
     "views": []
    },
    "acba7d21ef4142038e8180ae3e1ab193": {
     "views": []
    },
    "ae9d27db27ce4535b919f5a1b86d478d": {
     "views": []
    },
    "aed4c17ab19143d49f1fd37b50a41bc6": {
     "views": []
    },
    "b051dcd9352b4968a2b995ede58292b8": {
     "views": []
    },
    "b0af830c76444d7da97ce179e7611e82": {
     "views": []
    },
    "b29cc02d7f6440b7ae77577ac92238e5": {
     "views": []
    },
    "b42b78b9839f4fa59f57253914121ec9": {
     "views": []
    },
    "b501cf64ea0e44cd8cec931d8aad62d7": {
     "views": []
    },
    "b635ff68c4934f33960a9bbcf27cc796": {
     "views": []
    },
    "b9c1a0871b1d4a21a429aa6b4d096156": {
     "views": []
    },
    "b9fb842eaf0145d59132ae21a9c56259": {
     "views": []
    },
    "bad6005c03584e6a8df59b18a53c1277": {
     "views": []
    },
    "bc7cee33c0fa461ab1dfbb5b5c9f2526": {
     "views": []
    },
    "bdea3d1f69d84a9682f109e0169f1353": {
     "views": []
    },
    "bf5e35ab5bc64595a18a5df9085a9345": {
     "views": []
    },
    "bff8f24e63a3410f82cd03a65cacf546": {
     "views": []
    },
    "bffc15178f9949bfa58d7c35c6aed861": {
     "views": []
    },
    "bffc64b0c0b54c11ab6549df4883eb28": {
     "views": []
    },
    "c0566a2ca814409eb98fcc22b3c441c2": {
     "views": []
    },
    "c0abb26f1bc54a4e9718667417c4c6f0": {
     "views": []
    },
    "c0e811e1e0294272892ba813d722a0ae": {
     "views": []
    },
    "c2c07683038a406483fc54224ca2c428": {
     "views": []
    },
    "c4058aa7efd2429b87babf6a70763431": {
     "views": []
    },
    "c6288078cc224f30abda8ce9cb8fd187": {
     "views": []
    },
    "c7b5a824e7d04e8d81cac2543482f880": {
     "views": []
    },
    "cb63b0db781a42fe8fa1b116d74cc579": {
     "views": []
    },
    "cc9a10caa3ab475394c5f0855b7ddaef": {
     "views": []
    },
    "cd1c25c7539e4f10b27a51b6b1fcc5a3": {
     "views": []
    },
    "cd7ac5ac313c438285cfd4e2c5d17ca4": {
     "views": []
    },
    "cf334ad97b6d4198a6f7b98d9953c672": {
     "views": []
    },
    "cf85f0dd2527439e91a34404de543c05": {
     "views": []
    },
    "d17d3352184540cfa03751fa249b6ad6": {
     "views": []
    },
    "d1c7bb6249bb43e7a4a4c893d5e2856d": {
     "views": []
    },
    "d33f200cb89b4d10a1106a0659549ad4": {
     "views": []
    },
    "d3485f51e92f479191dd9e5321316e66": {
     "views": []
    },
    "d5d9ee0535c54e149734eacca077d0af": {
     "views": []
    },
    "d692718a7bd44bce8ebc741017571e15": {
     "views": []
    },
    "d6d0fa78ad1a401fa5f21875f13d969d": {
     "views": []
    },
    "d6dd11c0b7c0447aa0c8a56b76acff09": {
     "views": []
    },
    "d849e87cb70547958c6444b1d3ff7129": {
     "views": []
    },
    "d8bf6fd40ec24915b444262390ebd11d": {
     "views": []
    },
    "dc8cdf26c467462cb91f4959091f6358": {
     "views": []
    },
    "dd8288a34ebe47319f62eb918fb26e65": {
     "views": []
    },
    "ddf2cea366cb4cb193321a555035b595": {
     "views": []
    },
    "de2aa86ecebd43df9c92cd9533701a60": {
     "views": []
    },
    "de52a6139f354b2881b9c9ecb748a3ab": {
     "views": []
    },
    "de705c5eb8754707941aad280152603e": {
     "views": []
    },
    "dea8a59a953b4a2b8a32d3570018c498": {
     "views": []
    },
    "e1aafd38c20c4a8a9319cce395b94bd3": {
     "views": []
    },
    "e3ff3115e8ce4d46badc45303efe302e": {
     "views": []
    },
    "e54512cde3af434aa975e812c969d6f4": {
     "views": []
    },
    "e74741f60a9c4d57a91e087606fc704b": {
     "views": []
    },
    "eb1e1e39801a4c02a39d8fc4acbb032f": {
     "views": []
    },
    "ebbda12d3bff4022a59d083928865cd1": {
     "views": []
    },
    "ec13359af34543488be933d8fda779f8": {
     "views": []
    },
    "ec8b8641bad4496b80e67c7020a96202": {
     "views": []
    },
    "ecb0a5cd9cf54e1ca2ba5103d3392099": {
     "views": []
    },
    "ee3876777f314d7eb6405b0241c1d912": {
     "views": []
    },
    "ee988c78e2574adebe1cf152608f7270": {
     "views": []
    },
    "ef52728bd09247898f3bb5c2a8ff6269": {
     "views": []
    },
    "efde9d67f299416fbb8f4452f2dfbcd4": {
     "views": []
    },
    "f0aac6bd67934772adeaa2ca2d68e8f2": {
     "views": []
    },
    "f21ee8dadb594882a86f11d276699ef4": {
     "views": []
    },
    "f22fb2b9dbc04f75b89cc41e67781cd8": {
     "views": []
    },
    "f3cba5177ed84a688949f526dd12185d": {
     "views": []
    },
    "f4350211569c4243a5e3dfea08949a01": {
     "views": []
    },
    "f53e674e9fa64356a539d5c1d78614e8": {
     "views": []
    },
    "f783d5d61b064f5a98d0b8c0394944c7": {
     "views": []
    },
    "f80c212b5335491aa013ed869e61f294": {
     "views": []
    },
    "f8428bfe51d74556a82efadb54abbb84": {
     "views": []
    },
    "f9ba28f07de246969c260abb2ae01e3b": {
     "views": []
    },
    "fa52730e8af749ad8a05c5dc389244e8": {
     "views": []
    },
    "fb4b585057a041a98d68e461d494ebf4": {
     "views": []
    },
    "fbc9dbf1a4ed4a55934fa2a3ae34ed64": {
     "views": []
    },
    "fbd2381844b647d9ae98acc7fbec81bd": {
     "views": []
    },
    "fd029a70253742dcaa81ec2cd18e7099": {
     "views": []
    },
    "fd9ee9f3208f406ea0d3d901858ac508": {
     "views": []
    },
    "fe3799f3783943f1b627260755dc3e36": {
     "views": []
    },
    "ff20724e0a1747429ed07513c26d1ad4": {
     "views": []
    }
   },
   "version": "1.1.2"
  }
 },
 "nbformat": 4,
 "nbformat_minor": 0
}
